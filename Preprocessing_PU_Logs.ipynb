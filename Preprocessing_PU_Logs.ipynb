{
 "cells": [
  {
   "cell_type": "code",
   "execution_count": 23,
   "id": "292c0189",
   "metadata": {},
   "outputs": [],
   "source": [
    "import os  \n",
    "import random\n"
   ]
  },
  {
   "cell_type": "markdown",
   "id": "8a03217a",
   "metadata": {},
   "source": [
    " Using the already preprocessed datasets (with labels). We do different actions still:\n",
    " \n",
    " - Out-of-time Train-Test split (don't necesserily delete overlap)\n",
    " - For different percentages of the cases (!), not activities, in the Training log change label. This change then has to be applied to all activities of this case (of course).\n",
    " \n",
    " "
   ]
  },
  {
   "cell_type": "markdown",
   "id": "fde24cbc",
   "metadata": {},
   "source": [
    "# Helper functions"
   ]
  },
  {
   "cell_type": "code",
   "execution_count": 24,
   "id": "f93057e6",
   "metadata": {},
   "outputs": [],
   "source": [
    "from DatasetManager import DatasetManager\n",
    "\n",
    "import pandas as pd"
   ]
  },
  {
   "cell_type": "code",
   "execution_count": 25,
   "id": "a166a99b",
   "metadata": {},
   "outputs": [],
   "source": [
    "def flip_label(datadum, case_id_col, fraction):\n",
    "    data = datadum.copy(deep=True)\n",
    "    data.rename(columns={case_id_col: 'Case_ID'}, inplace=True)\n",
    "    #get a list with all case_IDs of only those cases which have a positive /defiant label\n",
    "    case_ids = list(set(data.loc[data['label'] != 'regular']['Case_ID'].tolist()))\n",
    "    print(len(case_ids))\n",
    "    #sample fraction of these IDs\n",
    "    k = int(len(case_ids) * fraction)\n",
    "    indices = random.sample(range(len(case_ids)), k)\n",
    "    print(len(indices))\n",
    "    case_ids_to_flip = [case_ids[i] for i in indices]\n",
    "    #for each of the IDs we sampled change the label for each activity\n",
    "    data.loc[data.Case_ID.isin(case_ids_to_flip), 'label'] = 'regular'\n",
    "    data.rename(columns={'Case_ID': case_id_col}, inplace=True)\n",
    "    return data"
   ]
  },
  {
   "cell_type": "code",
   "execution_count": 32,
   "id": "50201d5c",
   "metadata": {},
   "outputs": [],
   "source": [
    "def change_name(logname):\n",
    "    if logname ==  \"production\":\n",
    "        with_caps = \"Production\"\n",
    "    if logname ==  \"bpic2015_1_f2\":\n",
    "        with_caps = \"BPIC15_1_f2\"\n",
    "    if logname ==  \"bpic2015_2_f2\":\n",
    "        with_caps = \"BPIC15_2_f2\"\n",
    "    if logname ==  \"bpic2015_3_f2\":\n",
    "        with_caps = \"BPIC15_3_f2\"\n",
    "    if logname ==  \"bpic2015_4_f2\":\n",
    "        with_caps = \"BPIC15_4_f2\"\n",
    "    if logname ==  \"bpic2015_5_f2\":\n",
    "        with_caps = \"BPIC15_5_f2\"\n",
    "    if logname ==  \"bpic2011_f1\":\n",
    "        with_caps = \"BPIC11_f1\"\n",
    "    if logname ==  \"bpic2011_f2\":\n",
    "        with_caps = \"BPIC11_f2\"\n",
    "    if logname ==  \"bpic2011_f3\":\n",
    "        with_caps = \"BPIC11_f3\"\n",
    "    if logname ==  \"bpic2011_f4\":\n",
    "        with_caps = \"BPIC11_f4\"\n",
    "    if logname ==  \"sepsis_cases_1\":\n",
    "        with_caps = \"sepsis_cases_1\"\n",
    "    if logname ==  \"sepsis_cases_2\":\n",
    "        with_caps = \"sepsis_cases_2\"\n",
    "    if logname ==  \"sepsis_cases_4\":\n",
    "        with_caps = \"sepsis_cases_4\"\n",
    "    if logname ==  \"bpic2017_cancelled\":\n",
    "        with_caps = \"BPIC17_O_Cancelled\" \n",
    "    if logname ==  \"bpic2012_cancelled\":\n",
    "        with_caps = \"bpic2012_O_CANCELLED-COMPLETE\"    \n",
    "    return with_caps"
   ]
  },
  {
   "cell_type": "code",
   "execution_count": 33,
   "id": "1dcf9897",
   "metadata": {},
   "outputs": [],
   "source": [
    "def get_ratio(datadum, case_id_col):\n",
    "    data = datadum.copy(deep=True)\n",
    "    data.rename(columns={case_id_col: 'Case_ID'}, inplace=True)\n",
    "    case_ids_reg = list(set(data.loc[data['label'] == 'regular']['Case_ID'].tolist()))\n",
    "    case_ids_dev = list(set(data.loc[data['label'] != 'regular']['Case_ID'].tolist()))\n",
    "    print(\"Amount reg:\", len(case_ids_reg))\n",
    "    print(\"Amount dev:\", len(case_ids_dev))"
   ]
  },
  {
   "cell_type": "code",
   "execution_count": 34,
   "id": "efcd8693",
   "metadata": {},
   "outputs": [],
   "source": [
    "def create_PU_datasets(logname):\n",
    "    #read data\n",
    "    dataset_manager = DatasetManager(logname)\n",
    "    newname = change_name(logname)\n",
    "    data = pd.read_csv('Original/'+newname+'.csv', sep=';')\n",
    "    \n",
    "    if logname in ['bpic2011_f1', 'bpic2011_f2', 'bpic2011_f3', 'bpic2011_f4','bpic2015_1_f2','bpic2015_2_f2','bpic2015_3_f2','bpic2015_4_f2','bpic2015_5_f2','sepsis_cases_1','sepsis_cases_2','sepsis_cases_4']:\n",
    "        data['time:timestamp'] = pd.to_datetime(data['time:timestamp'])\n",
    "    if logname in ['bpic2012_accepted', 'bpic2012_cancelled', 'bpic2012_declined']:\n",
    "        data['Complete Timestamp'] = pd.to_datetime(data['Complete Timestamp'])\n",
    "\n",
    "    cls_encoder_args = {'case_id_col': dataset_manager.case_id_col, \n",
    "                        'static_cat_cols': dataset_manager.static_cat_cols,\n",
    "                        'static_num_cols': dataset_manager.static_num_cols,\n",
    "                        'dynamic_cat_cols': dataset_manager.dynamic_cat_cols,\n",
    "                        'dynamic_num_cols': dataset_manager.dynamic_num_cols, \n",
    "                        'fillna': True}\n",
    "    case_id_col = dataset_manager.case_id_col\n",
    "    # split into training and test \n",
    "    #out_of_time_split: needs to split of all traces which have at least one activity after a certain point in time\n",
    "    #we delete the overlap traces\n",
    "    \n",
    "    \n",
    "    \n",
    "    train, test = dataset_manager.split_data_strict(data, train_ratio=0.8, split=\"temporal\")\n",
    "    \n",
    "    get_ratio(train, case_id_col)\n",
    "    get_ratio(test, case_id_col)\n",
    "    \n",
    "    print(train['label'].value_counts())\n",
    "    #save training and test log without flips \n",
    "    train.to_csv('Train_PU00_'+newname+'.csv', index=False, sep=';')\n",
    "    test.to_csv('Test_'+newname+'.csv', index=False, sep=';')\n",
    "    #get different percentages of traces in training log with positive label to flip\n",
    "    #save every of these logs\n",
    "    train_ori = train.copy(deep=True)\n",
    "    train_25 = flip_label(train, case_id_col, 0.25)\n",
    "    print(train_25['label'].value_counts())\n",
    "    train_25.to_csv('Train_PU25_'+newname+'.csv', index=False, sep=';')\n",
    "    train = train_ori.copy(deep=True)\n",
    "    train_50 = flip_label(train, case_id_col, 0.5)\n",
    "    print(train_50['label'].value_counts())\n",
    "    train_50.to_csv('Train_PU50_'+newname+'.csv', index=False, sep=';')\n",
    "    train = train_ori.copy(deep=True)\n",
    "    train_75 = flip_label(train, case_id_col, 0.75)\n",
    "    print(train_75['label'].value_counts())\n",
    "    train_75.to_csv('Train_PU75_'+newname+'.csv', index=False, sep=';')\n",
    "    \n",
    "    \n"
   ]
  },
  {
   "cell_type": "code",
   "execution_count": 7,
   "id": "46a803c8",
   "metadata": {},
   "outputs": [
    {
     "name": "stdout",
     "output_type": "stream",
     "text": [
      "Amount reg: 13192\n",
      "Amount dev: 11938\n",
      "Amount reg: 3320\n",
      "Amount dev: 2963\n",
      "regular    524417\n",
      "deviant    403368\n",
      "Name: label, dtype: int64\n",
      "11938\n",
      "2984\n",
      "regular    625501\n",
      "deviant    302284\n",
      "Name: label, dtype: int64\n",
      "11938\n",
      "5969\n",
      "regular    724771\n",
      "deviant    203014\n",
      "Name: label, dtype: int64\n",
      "11938\n",
      "8953\n",
      "regular    826816\n",
      "deviant    100969\n",
      "Name: label, dtype: int64\n"
     ]
    }
   ],
   "source": [
    "create_PU_datasets('bpic2017_cancelled')"
   ]
  },
  {
   "cell_type": "code",
   "execution_count": 8,
   "id": "d4943d3e",
   "metadata": {},
   "outputs": [
    {
     "name": "stdout",
     "output_type": "stream",
     "text": [
      "Amount reg: 2382\n",
      "Amount dev: 1366\n",
      "Amount reg: 663\n",
      "Amount dev: 274\n",
      "regular    93627\n",
      "deviant    44380\n",
      "Name: label, dtype: int64\n",
      "1366\n",
      "341\n",
      "regular    104594\n",
      "deviant     33413\n",
      "Name: label, dtype: int64\n",
      "1366\n",
      "683\n",
      "regular    115657\n",
      "deviant     22350\n",
      "Name: label, dtype: int64\n",
      "1366\n",
      "1024\n",
      "regular    127083\n",
      "deviant     10924\n",
      "Name: label, dtype: int64\n"
     ]
    }
   ],
   "source": [
    "create_PU_datasets('bpic2012_cancelled')"
   ]
  },
  {
   "cell_type": "code",
   "execution_count": 14,
   "id": "18b2188c",
   "metadata": {},
   "outputs": [
    {
     "name": "stdout",
     "output_type": "stream",
     "text": [
      "Amount reg: 532\n",
      "Amount dev: 93\n",
      "Amount reg: 139\n",
      "Amount dev: 18\n",
      "regular    8613\n",
      "deviant    1769\n",
      "Name: label, dtype: int64\n",
      "93\n",
      "23\n",
      "regular    8966\n",
      "deviant    1416\n",
      "Name: label, dtype: int64\n",
      "93\n",
      "46\n",
      "regular    9604\n",
      "deviant     778\n",
      "Name: label, dtype: int64\n",
      "93\n",
      "69\n",
      "regular    9850\n",
      "deviant     532\n",
      "Name: label, dtype: int64\n"
     ]
    }
   ],
   "source": [
    "create_PU_datasets('sepsis_cases_1')"
   ]
  },
  {
   "cell_type": "code",
   "execution_count": 15,
   "id": "73a64660",
   "metadata": {},
   "outputs": [
    {
     "name": "stdout",
     "output_type": "stream",
     "text": [
      "Amount reg: 540\n",
      "Amount dev: 85\n",
      "Amount reg: 135\n",
      "Amount dev: 22\n",
      "regular    7815\n",
      "deviant     760\n",
      "Name: label, dtype: int64\n",
      "85\n",
      "21\n",
      "regular    8000\n",
      "deviant     575\n",
      "Name: label, dtype: int64\n",
      "85\n",
      "42\n",
      "regular    8177\n",
      "deviant     398\n",
      "Name: label, dtype: int64\n",
      "85\n",
      "63\n",
      "regular    8363\n",
      "deviant     212\n",
      "Name: label, dtype: int64\n"
     ]
    }
   ],
   "source": [
    "create_PU_datasets('sepsis_cases_2')"
   ]
  },
  {
   "cell_type": "code",
   "execution_count": 21,
   "id": "9752d57a",
   "metadata": {},
   "outputs": [
    {
     "name": "stdout",
     "output_type": "stream",
     "text": [
      "Amount reg: 87\n",
      "Amount dev: 538\n",
      "Amount reg: 24\n",
      "Amount dev: 133\n",
      "deviant    8072\n",
      "regular    1786\n",
      "Name: label, dtype: int64\n",
      "538\n",
      "134\n",
      "deviant    5985\n",
      "regular    3873\n",
      "Name: label, dtype: int64\n",
      "538\n",
      "269\n",
      "regular    5653\n",
      "deviant    4205\n",
      "Name: label, dtype: int64\n",
      "538\n",
      "403\n",
      "regular    7901\n",
      "deviant    1957\n",
      "Name: label, dtype: int64\n"
     ]
    }
   ],
   "source": [
    "create_PU_datasets('sepsis_cases_4')"
   ]
  },
  {
   "cell_type": "code",
   "execution_count": 10,
   "id": "a3d0119c",
   "metadata": {},
   "outputs": [
    {
     "name": "stdout",
     "output_type": "stream",
     "text": [
      "Amount reg: 73\n",
      "Amount dev: 103\n",
      "Amount reg: 30\n",
      "Amount dev: 14\n",
      "deviant    1250\n",
      "regular     824\n",
      "Name: label, dtype: int64\n",
      "103\n",
      "25\n",
      "regular    1133\n",
      "deviant     941\n",
      "Name: label, dtype: int64\n",
      "103\n",
      "51\n",
      "regular    1421\n",
      "deviant     653\n",
      "Name: label, dtype: int64\n",
      "103\n",
      "77\n",
      "regular    1729\n",
      "deviant     345\n",
      "Name: label, dtype: int64\n"
     ]
    }
   ],
   "source": [
    "create_PU_datasets('production')"
   ]
  },
  {
   "cell_type": "code",
   "execution_count": 11,
   "id": "33eff02f",
   "metadata": {},
   "outputs": [
    {
     "name": "stdout",
     "output_type": "stream",
     "text": [
      "Amount reg: 382\n",
      "Amount dev: 78\n",
      "Amount reg: 101\n",
      "Amount dev: 15\n",
      "regular    15167\n",
      "deviant     3519\n",
      "Name: label, dtype: int64\n",
      "78\n",
      "19\n",
      "regular    16001\n",
      "deviant     2685\n",
      "Name: label, dtype: int64\n",
      "78\n",
      "39\n",
      "regular    17018\n",
      "deviant     1668\n",
      "Name: label, dtype: int64\n",
      "78\n",
      "58\n",
      "regular    17876\n",
      "deviant      810\n",
      "Name: label, dtype: int64\n"
     ]
    }
   ],
   "source": [
    "create_PU_datasets('bpic2015_4_f2')"
   ]
  },
  {
   "cell_type": "code",
   "execution_count": 12,
   "id": "75d2b463",
   "metadata": {},
   "outputs": [
    {
     "name": "stdout",
     "output_type": "stream",
     "text": [
      "Amount reg: 563\n",
      "Amount dev: 349\n",
      "Amount reg: 119\n",
      "Amount dev: 109\n",
      "regular    34857\n",
      "deviant    10470\n",
      "Name: label, dtype: int64\n",
      "349\n",
      "87\n",
      "regular    37251\n",
      "deviant     8076\n",
      "Name: label, dtype: int64\n",
      "349\n",
      "174\n",
      "regular    40110\n",
      "deviant     5217\n",
      "Name: label, dtype: int64\n",
      "349\n",
      "261\n",
      "regular    42593\n",
      "deviant     2734\n",
      "Name: label, dtype: int64\n"
     ]
    }
   ],
   "source": [
    "create_PU_datasets('bpic2011_f1')"
   ]
  },
  {
   "cell_type": "code",
   "execution_count": 12,
   "id": "60fd365b",
   "metadata": {},
   "outputs": [
    {
     "name": "stdout",
     "output_type": "stream",
     "text": [
      "Amount reg: 170\n",
      "Amount dev: 742\n",
      "Amount reg: 77\n",
      "Amount dev: 151\n",
      "deviant    67974\n",
      "regular    29511\n",
      "Name: label, dtype: int64\n",
      "742\n",
      "185\n",
      "regular    49177\n",
      "deviant    48308\n",
      "Name: label, dtype: int64\n",
      "742\n",
      "371\n",
      "regular    62956\n",
      "deviant    34529\n",
      "Name: label, dtype: int64\n",
      "742\n",
      "556\n",
      "regular    81222\n",
      "deviant    16263\n",
      "Name: label, dtype: int64\n"
     ]
    }
   ],
   "source": [
    "create_PU_datasets('bpic2011_f2')"
   ]
  },
  {
   "cell_type": "code",
   "execution_count": 13,
   "id": "0241aede",
   "metadata": {},
   "outputs": [
    {
     "name": "stdout",
     "output_type": "stream",
     "text": [
      "Amount reg: 717\n",
      "Amount dev: 179\n",
      "Amount reg: 145\n",
      "Amount dev: 80\n",
      "regular    40008\n",
      "deviant     5630\n",
      "Name: label, dtype: int64\n",
      "179\n",
      "44\n",
      "regular    41250\n",
      "deviant     4388\n",
      "Name: label, dtype: int64\n",
      "179\n",
      "89\n",
      "regular    43321\n",
      "deviant     2317\n",
      "Name: label, dtype: int64\n",
      "179\n",
      "134\n",
      "regular    44636\n",
      "deviant     1002\n",
      "Name: label, dtype: int64\n"
     ]
    }
   ],
   "source": [
    "create_PU_datasets('bpic2011_f3')"
   ]
  },
  {
   "cell_type": "code",
   "execution_count": 14,
   "id": "939e7605",
   "metadata": {},
   "outputs": [
    {
     "name": "stderr",
     "output_type": "stream",
     "text": [
      "C:\\Users\\u0132580\\AppData\\Local\\Temp/ipykernel_20292/2295866648.py:5: DtypeWarning: Columns (22) have mixed types. Specify dtype option on import or set low_memory=False.\n",
      "  data = pd.read_csv('Original/'+newname+'.csv', sep=';')\n"
     ]
    },
    {
     "name": "stdout",
     "output_type": "stream",
     "text": [
      "Amount reg: 568\n",
      "Amount dev: 272\n",
      "Amount reg: 156\n",
      "Amount dev: 55\n",
      "regular    26616\n",
      "deviant    15024\n",
      "Name: label, dtype: int64\n",
      "272\n",
      "68\n",
      "regular    30425\n",
      "deviant    11215\n",
      "Name: label, dtype: int64\n",
      "272\n",
      "136\n",
      "regular    33947\n",
      "deviant     7693\n",
      "Name: label, dtype: int64\n",
      "272\n",
      "204\n",
      "regular    38150\n",
      "deviant     3490\n",
      "Name: label, dtype: int64\n"
     ]
    }
   ],
   "source": [
    "create_PU_datasets('bpic2015_5_f2')"
   ]
  },
  {
   "cell_type": "code",
   "execution_count": 29,
   "id": "977d91ac",
   "metadata": {},
   "outputs": [
    {
     "name": "stderr",
     "output_type": "stream",
     "text": [
      "C:\\Users\\u0132580\\AppData\\Local\\Temp/ipykernel_572/2295866648.py:5: DtypeWarning: Columns (0) have mixed types. Specify dtype option on import or set low_memory=False.\n",
      "  data = pd.read_csv('Original/'+newname+'.csv', sep=';')\n"
     ]
    },
    {
     "name": "stdout",
     "output_type": "stream",
     "text": [
      "Amount reg: 431\n",
      "Amount dev: 124\n",
      "Amount reg: 104\n",
      "Amount dev: 36\n",
      "regular    15377\n",
      "deviant     5738\n",
      "Name: label, dtype: int64\n",
      "124\n",
      "31\n",
      "regular    16809\n",
      "deviant     4306\n",
      "Name: label, dtype: int64\n",
      "124\n",
      "62\n",
      "regular    18245\n",
      "deviant     2870\n",
      "Name: label, dtype: int64\n",
      "124\n",
      "93\n",
      "regular    19661\n",
      "deviant     1454\n",
      "Name: label, dtype: int64\n"
     ]
    }
   ],
   "source": [
    "create_PU_datasets('bpic2015_1_f2')"
   ]
  },
  {
   "cell_type": "code",
   "execution_count": 30,
   "id": "69599aab",
   "metadata": {},
   "outputs": [
    {
     "name": "stdout",
     "output_type": "stream",
     "text": [
      "Amount reg: 482\n",
      "Amount dev: 120\n",
      "Amount reg: 125\n",
      "Amount dev: 26\n",
      "regular    23822\n",
      "deviant     7186\n",
      "Name: label, dtype: int64\n",
      "120\n",
      "30\n",
      "regular    25474\n",
      "deviant     5534\n",
      "Name: label, dtype: int64\n",
      "120\n",
      "60\n",
      "regular    27476\n",
      "deviant     3532\n",
      "Name: label, dtype: int64\n",
      "120\n",
      "90\n",
      "regular    29121\n",
      "deviant     1887\n",
      "Name: label, dtype: int64\n"
     ]
    }
   ],
   "source": [
    "create_PU_datasets('bpic2015_2_f2')"
   ]
  },
  {
   "cell_type": "code",
   "execution_count": 31,
   "id": "d8e7414a",
   "metadata": {},
   "outputs": [
    {
     "name": "stderr",
     "output_type": "stream",
     "text": [
      "C:\\Users\\u0132580\\AppData\\Local\\Temp/ipykernel_572/2295866648.py:5: DtypeWarning: Columns (0,21) have mixed types. Specify dtype option on import or set low_memory=False.\n",
      "  data = pd.read_csv('Original/'+newname+'.csv', sep=';')\n"
     ]
    },
    {
     "name": "stdout",
     "output_type": "stream",
     "text": [
      "Amount reg: 868\n",
      "Amount dev: 194\n",
      "Amount reg: 199\n",
      "Amount dev: 67\n",
      "regular    34215\n",
      "deviant     9544\n",
      "Name: label, dtype: int64\n",
      "194\n",
      "48\n",
      "regular    36486\n",
      "deviant     7273\n",
      "Name: label, dtype: int64\n",
      "194\n",
      "97\n",
      "regular    38958\n",
      "deviant     4801\n",
      "Name: label, dtype: int64\n",
      "194\n",
      "145\n",
      "regular    41173\n",
      "deviant     2586\n",
      "Name: label, dtype: int64\n"
     ]
    }
   ],
   "source": [
    "create_PU_datasets('bpic2015_3_f2')"
   ]
  },
  {
   "cell_type": "code",
   "execution_count": 35,
   "id": "499d4602",
   "metadata": {},
   "outputs": [
    {
     "name": "stdout",
     "output_type": "stream",
     "text": [
      "Amount reg: 682\n",
      "Amount dev: 230\n",
      "Amount reg: 139\n",
      "Amount dev: 89\n",
      "regular    49273\n",
      "deviant    15665\n",
      "Name: label, dtype: int64\n",
      "230\n",
      "57\n",
      "regular    53320\n",
      "deviant    11618\n",
      "Name: label, dtype: int64\n",
      "230\n",
      "115\n",
      "regular    57785\n",
      "deviant     7153\n",
      "Name: label, dtype: int64\n",
      "230\n",
      "172\n",
      "regular    61365\n",
      "deviant     3573\n",
      "Name: label, dtype: int64\n"
     ]
    }
   ],
   "source": [
    "create_PU_datasets('bpic2011_f4')"
   ]
  },
  {
   "cell_type": "code",
   "execution_count": null,
   "id": "ca098d4e",
   "metadata": {},
   "outputs": [],
   "source": []
  }
 ],
 "metadata": {
  "kernelspec": {
   "display_name": "Python 3 (ipykernel)",
   "language": "python",
   "name": "python3"
  },
  "language_info": {
   "codemirror_mode": {
    "name": "ipython",
    "version": 3
   },
   "file_extension": ".py",
   "mimetype": "text/x-python",
   "name": "python",
   "nbconvert_exporter": "python",
   "pygments_lexer": "ipython3",
   "version": "3.8.8"
  }
 },
 "nbformat": 4,
 "nbformat_minor": 5
}
